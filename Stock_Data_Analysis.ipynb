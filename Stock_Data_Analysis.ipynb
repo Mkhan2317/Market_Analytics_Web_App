{
  "cells": [
    {
      "cell_type": "markdown",
      "metadata": {
        "id": "view-in-github",
        "colab_type": "text"
      },
      "source": [
        "<a href=\"https://colab.research.google.com/github/Mkhan2317/Market_Analytics_Web_App/blob/main/Stock_Data_Analysis.ipynb\" target=\"_parent\"><img src=\"https://colab.research.google.com/assets/colab-badge.svg\" alt=\"Open In Colab\"/></a>"
      ]
    },
    {
      "cell_type": "code",
      "execution_count": null,
      "metadata": {
        "id": "Ng5ypB30AGXR"
      },
      "outputs": [],
      "source": [
        "!pip install streamlit\n",
        "!pip install pyngrok"
      ]
    },
    {
      "cell_type": "code",
      "source": [
        "# Installing Ta-Lib Library\n",
        "!wget http://prdownloads.sourceforge.net/ta-lib/ta-lib-0.4.0-src.tar.gz\n",
        "!tar -xzvf ta-lib-0.4.0-src.tar.gz\n",
        "%cd ta-lib\n",
        "!./configure --prefix=/usr\n",
        "!make\n",
        "!make install\n",
        "!pip install Ta-Lib\n"
      ],
      "metadata": {
        "id": "9XdBuKqHbEIB"
      },
      "execution_count": null,
      "outputs": []
    },
    {
      "cell_type": "code",
      "source": [
        "%%writefile app.py\n",
        "\n",
        "import streamlit as st\n",
        "import pandas as pd\n",
        "import talib\n",
        "import yfinance as yf\n",
        "import warnings\n",
        "\n",
        "# Suppress warnings\n",
        "warnings.filterwarnings(\"ignore\")\n",
        "\n",
        "def get_sp500_components():\n",
        "    # Retrieve S&P 500 components from Wikipedia\n",
        "    df = pd.read_html(\"https://en.wikipedia.org/wiki/List_of_S%26P_500_companies\")[0]\n",
        "    tickers = df[\"Symbol\"].to_list()\n",
        "    tickers_companies_dict = df.set_index(\"Symbol\")[\"Security\"].to_dict()\n",
        "    return tickers, tickers_companies_dict\n",
        "\n",
        "indicators = [\n",
        "    \"Simple Moving Average\",\n",
        "    \"Exponential Moving Average\",\n",
        "    \"Relative Strength Index\",\n",
        "]\n",
        "\n",
        "def apply_indicator(indicator, data):\n",
        "    # Apply the selected technical analysis indicator to the data\n",
        "    if indicator == \"Simple Moving Average\":\n",
        "        sma = talib.SMA(data[\"Close\"])\n",
        "        return pd.DataFrame({\"Close\": data[\"Close\"], \"SMA\": sma})\n",
        "    elif indicator == \"Exponential Moving Average\":\n",
        "        ema = talib.EMA(data[\"Close\"])\n",
        "        return pd.DataFrame({\"Close\": data[\"Close\"], \"EMA\": ema})\n",
        "    elif indicator == \"Relative Strength Index\":\n",
        "        rsi = talib.RSI(data[\"Close\"])\n",
        "        return pd.DataFrame({\"Close\": data[\"Close\"], \"RSI\": rsi})\n",
        "\n",
        "st.title(\"Stock Data Analysis\")\n",
        "st.write(\"A simple app to download stock data and apply technical analysis indicators.\")\n",
        "\n",
        "st.sidebar.header(\"Stock Parameters\")\n",
        "\n",
        "# Retrieve S&P 500 tickers and company names\n",
        "available_tickers, tickers_companies_dict = get_sp500_components()\n",
        "\n",
        "# User selects a ticker from the sidebar\n",
        "ticker = st.sidebar.selectbox(\n",
        "    \"Ticker\", available_tickers, format_func=tickers_companies_dict.get\n",
        ")\n",
        "\n",
        "# User selects a date range from the sidebar\n",
        "start = st.sidebar.date_input(\"Start date:\", pd.Timestamp(\"2020-01-01\"))\n",
        "end = st.sidebar.date_input(\"End date:\", pd.Timestamp(\"2023-12-31\"))\n",
        "\n",
        "# Download stock data for the selected ticker and date range\n",
        "data = yf.download(ticker, start, end)\n",
        "\n",
        "# User selects a technical analysis indicator\n",
        "selected_indicator = st.selectbox(\"Select a technical analysis indicator:\", indicators)\n",
        "\n",
        "# Display the selected technical analysis indicator and its chart\n",
        "if not data.empty:\n",
        "    indicator_data = apply_indicator(selected_indicator, data)\n",
        "    st.write(f\"{selected_indicator} for {ticker}\")\n",
        "    st.line_chart(indicator_data)\n",
        "\n",
        "    st.write(\"Stock data for\", ticker)\n",
        "    st.dataframe(data)\n",
        "else:\n",
        "    st.write(\"No data available for the selected date range and ticker.\")\n"
      ],
      "metadata": {
        "colab": {
          "base_uri": "https://localhost:8080/"
        },
        "id": "juAPPJvXiZ_U",
        "outputId": "137348fd-1cc3-45c9-da15-6a22bacd4a84"
      },
      "execution_count": 32,
      "outputs": [
        {
          "output_type": "stream",
          "name": "stdout",
          "text": [
            "Overwriting app.py\n"
          ]
        }
      ]
    },
    {
      "cell_type": "code",
      "source": [
        "!ngrok authtoken 2lPK0JW1gGHKc1obVsOnbcp83mu_6yLc7PRqJj5Qp3XHue4sX\n"
      ],
      "metadata": {
        "colab": {
          "base_uri": "https://localhost:8080/"
        },
        "id": "ZMYz9JJmj0ky",
        "outputId": "8dfcb152-de5d-47a1-f909-3755f6e44998"
      },
      "execution_count": 33,
      "outputs": [
        {
          "output_type": "stream",
          "name": "stdout",
          "text": [
            "Authtoken saved to configuration file: /root/.config/ngrok/ngrok.yml\n"
          ]
        }
      ]
    },
    {
      "cell_type": "code",
      "source": [
        "from pyngrok import ngrok\n",
        "\n",
        "# Terminate open tunnels if running\n",
        "ngrok.kill()\n",
        "\n",
        "# Start the Streamlit app\n",
        "!streamlit run app.py &>/dev/null&\n",
        "\n",
        "# Open a tunnel on the default port 8501 using the correct syntax\n",
        "public_url = ngrok.connect(addr=\"8501\", bind_tls=True)  # Specify the address as a string\n",
        "print(f\"Streamlit app is running on: {public_url}\")"
      ],
      "metadata": {
        "colab": {
          "base_uri": "https://localhost:8080/"
        },
        "id": "eWCD0CdVih2j",
        "outputId": "8728164f-9207-4495-f0e2-91ed47e65710"
      },
      "execution_count": 34,
      "outputs": [
        {
          "output_type": "stream",
          "name": "stdout",
          "text": [
            "Streamlit app is running on: NgrokTunnel: \"https://d061-35-239-107-160.ngrok-free.app\" -> \"http://localhost:8501\"\n"
          ]
        }
      ]
    }
  ],
  "metadata": {
    "colab": {
      "provenance": [],
      "mount_file_id": "11GzpqdYVDE-B1BMe4x6XFZZFNaMBO4mV",
      "authorship_tag": "ABX9TyNJn0mBCYwckyYW1Il5B6W9",
      "include_colab_link": true
    },
    "kernelspec": {
      "display_name": "Python 3",
      "name": "python3"
    },
    "language_info": {
      "name": "python"
    }
  },
  "nbformat": 4,
  "nbformat_minor": 0
}